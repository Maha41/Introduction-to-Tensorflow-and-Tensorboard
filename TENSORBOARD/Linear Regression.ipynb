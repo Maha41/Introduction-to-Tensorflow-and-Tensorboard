{
 "cells": [
  {
   "cell_type": "code",
   "execution_count": 7,
   "metadata": {},
   "outputs": [
    {
     "ename": "AttributeError",
     "evalue": "module 'tensorflow' has no attribute 'Scalar'",
     "output_type": "error",
     "traceback": [
      "\u001b[1;31m---------------------------------------------------------------------------\u001b[0m",
      "\u001b[1;31mAttributeError\u001b[0m                            Traceback (most recent call last)",
      "\u001b[1;32m<ipython-input-7-753c6dfe7602>\u001b[0m in \u001b[0;36m<module>\u001b[1;34m()\u001b[0m\n\u001b[0;32m     37\u001b[0m \u001b[0msess\u001b[0m \u001b[1;33m=\u001b[0m \u001b[0mtf\u001b[0m\u001b[1;33m.\u001b[0m\u001b[0mSession\u001b[0m\u001b[1;33m(\u001b[0m\u001b[1;33m)\u001b[0m\u001b[1;33m\u001b[0m\u001b[0m\n\u001b[0;32m     38\u001b[0m \u001b[0msess\u001b[0m\u001b[1;33m.\u001b[0m\u001b[0mrun\u001b[0m\u001b[1;33m(\u001b[0m\u001b[0minit\u001b[0m\u001b[1;33m)\u001b[0m\u001b[1;33m\u001b[0m\u001b[0m\n\u001b[1;32m---> 39\u001b[1;33m \u001b[0mcost\u001b[0m\u001b[1;33m=\u001b[0m\u001b[0mtf\u001b[0m\u001b[1;33m.\u001b[0m\u001b[0mScalar\u001b[0m\u001b[1;33m(\u001b[0m\u001b[1;34m\"loss\"\u001b[0m\u001b[1;33m,\u001b[0m \u001b[0mloss\u001b[0m\u001b[1;33m)\u001b[0m\u001b[1;33m\u001b[0m\u001b[0m\n\u001b[0m\u001b[0;32m     40\u001b[0m \u001b[1;33m\u001b[0m\u001b[0m\n\u001b[0;32m     41\u001b[0m \u001b[0msess\u001b[0m\u001b[1;33m.\u001b[0m\u001b[0mrun\u001b[0m\u001b[1;33m(\u001b[0m\u001b[0minit\u001b[0m\u001b[1;33m)\u001b[0m\u001b[1;33m\u001b[0m\u001b[0m\n",
      "\u001b[1;31mAttributeError\u001b[0m: module 'tensorflow' has no attribute 'Scalar'"
     ]
    }
   ],
   "source": [
    "\n",
    "import numpy as np \n",
    "import tensorflow as tf\n",
    "import matplotlib.pyplot as plt\n",
    "\n",
    "\n",
    "#input data:\n",
    "x_input=np.linspace(0,10,100)\n",
    "y_input=5*x_input+2.5\n",
    "\n",
    "#model parameters\n",
    "W = tf.Variable(tf.random_normal([1]), name='weight')\n",
    "#bias\n",
    "b = tf.Variable(tf.random_normal([1]), name='bias')\n",
    "\n",
    "#placeholders\n",
    "with tf.name_scope('input'):\n",
    " X=tf.placeholder(tf.float32, name='InputX')\n",
    " Y=tf.placeholder(tf.float32, name='InputY')\n",
    "\n",
    "#model\n",
    "with tf.name_scope('model'):\n",
    " Y_pred=tf.add(tf.multiply(X,W),b)\n",
    "\n",
    "#loss\n",
    "with tf.name_scope('loss'):\n",
    " loss = tf.reduce_mean(tf.square(Y_pred -Y ))\n",
    "#training algorithm\n",
    "optimizer = tf.train.GradientDescentOptimizer(0.01)\n",
    "train = optimizer.minimize(loss)\n",
    "\n",
    "#initializing the variables \n",
    "#init = tf.initialize_all_variables() #for TF version < 1.0\n",
    "init=tf.global_variables_initializer()\n",
    "\n",
    "#starting the session session \n",
    "sess = tf.Session()\n",
    "sess.run(init)\n",
    "cost=tf.Scalar(\"loss\", loss)\n",
    "\n",
    "sess.run(init)\n",
    "epoch=2000\n",
    "\n",
    "\n",
    "\n",
    "merged_summary_op = tf.summary.merge_all()\n",
    "summary_writer = tf.summary.FileWriter('./', graph=tf.get_default_graph())\n",
    "for step in xrange(epoch):\n",
    "    _, c, summary=sess.run([train, loss, merged_summary_op], feed_dict={X: x_input, Y: y_input})\n",
    "    summary_writer.add_summary(summary,step)\n",
    "    if step%50==0:\n",
    "     print(c)\n",
    "print(\"Model paramters:\")       \n",
    "print(\"Weight:%f\" %sess.run(W))\n",
    "print(\"bias:%f\" %sess.run(b))"
   ]
  },
  {
   "cell_type": "code",
   "execution_count": null,
   "metadata": {
    "collapsed": true
   },
   "outputs": [],
   "source": []
  }
 ],
 "metadata": {
  "kernelspec": {
   "display_name": "Python 3",
   "language": "python",
   "name": "python3"
  },
  "language_info": {
   "codemirror_mode": {
    "name": "ipython",
    "version": 3
   },
   "file_extension": ".py",
   "mimetype": "text/x-python",
   "name": "python",
   "nbconvert_exporter": "python",
   "pygments_lexer": "ipython3",
   "version": "3.5.4"
  }
 },
 "nbformat": 4,
 "nbformat_minor": 2
}
