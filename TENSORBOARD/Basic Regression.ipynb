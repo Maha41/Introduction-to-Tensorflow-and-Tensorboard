{
 "cells": [
  {
   "cell_type": "code",
   "execution_count": 1,
   "metadata": {},
   "outputs": [
    {
     "name": "stdout",
     "output_type": "stream",
     "text": [
      "5\n"
     ]
    }
   ],
   "source": [
    "import tensorflow as tf\n",
    "a = tf.constant(2)\n",
    "b = tf.constant(3)\n",
    "x = tf.add(a, b)\n",
    "with tf.Session() as sess:\n",
    "    print(sess.run(x))"
   ]
  },
  {
   "cell_type": "markdown",
   "metadata": {},
   "source": [
    "To activate TensorBoard on this program, add this line after you’ve built your graph, right before\n",
    "running the train loop.\n",
    "writer = tf.summary.FileWriter(logs_dir, sess.graph)\n"
   ]
  },
  {
   "cell_type": "code",
   "execution_count": 2,
   "metadata": {},
   "outputs": [
    {
     "name": "stdout",
     "output_type": "stream",
     "text": [
      "20\n"
     ]
    }
   ],
   "source": [
    "import tensorflow as tf\n",
    "\n",
    "a = tf.constant(5,name=\"a\")\n",
    "b = tf.constant(15,name=\"b\")\n",
    "c = tf.add(a,b,name=\"c\")\n",
    "with tf.Session() as sess:  \n",
    " writer = tf.summary.FileWriter('./graphs', sess.graph)\n",
    " print(sess.run(c))\n",
    " \n",
    "sess.close()"
   ]
  },
  {
   "cell_type": "code",
   "execution_count": 3,
   "metadata": {},
   "outputs": [
    {
     "name": "stdout",
     "output_type": "stream",
     "text": [
      "Extracting MNIST_data/train-images-idx3-ubyte.gz\n",
      "Extracting MNIST_data/train-labels-idx1-ubyte.gz\n",
      "Extracting MNIST_data/t10k-images-idx3-ubyte.gz\n",
      "Extracting MNIST_data/t10k-labels-idx1-ubyte.gz\n",
      "Test Accuracy: 91.97999835014343%\n"
     ]
    }
   ],
   "source": [
    "\n",
    "import tensorflow as tf\n",
    "from tensorflow.examples.tutorials.mnist import input_data\n",
    "\n",
    "# Only log errors (to prevent unnecessary cluttering of the console)\n",
    "tf.logging.set_verbosity(tf.logging.ERROR)\n",
    "\n",
    "# We use the TF helper function to pull down the data from the MNIST site\n",
    "mnist = input_data.read_data_sets(\"MNIST_data/\", one_hot=True)\n",
    "\n",
    "# x is the placeholder for the 28 x 28 image data (the input)\n",
    "# y_ is a 10 element vector, containing the predicted probability of each digit (0-9) class\n",
    "# Define the weights and balances (always keep the dimensions in mind)\n",
    "x = tf.placeholder(tf.float32, shape=[None, 784], name=\"x_placeholder\")\n",
    "y_ = tf.placeholder(tf.float32, shape=[None, 10], name=\"y_placeholder\")\n",
    "\n",
    "W = tf.Variable(tf.zeros([784, 10]), name=\"weights_variable\")\n",
    "b = tf.Variable(tf.zeros([10]), name=\"bias_variable\")\n",
    "\n",
    "# Define the activation function = the real y. Do not use softmax here, as it will be applied in the next step\n",
    "y = tf.matmul(x, W) + b\n",
    "\n",
    "# Loss is defined as cross entropy between the prediction and the real value\n",
    "# Each training step in gradient descent we want to minimize the loss\n",
    "loss = tf.reduce_mean(\n",
    "    tf.nn.softmax_cross_entropy_with_logits_v2(\n",
    "        labels=y_, logits=y, name=\"lossFunction\"\n",
    "    ),\n",
    "    name=\"loss\",\n",
    ")\n",
    "train_step = tf.train.GradientDescentOptimizer(0.5).minimize(loss, name=\"gradDescent\")\n",
    "\n",
    "# Initialize all variables\n",
    "\n",
    "# Perform the initialization which is only the initialization of all global variables\n",
    "init = tf.global_variables_initializer()\n",
    "\n",
    "# ------ Set Session or InteractiveSession\n",
    "sess = tf.Session()\n",
    "sess.run(init)\n",
    "\n",
    "# Perform 1000 training steps\n",
    "# Feed the next batch and run the training\n",
    "for i in range(1000):\n",
    "    batch_xs, batch_ys = mnist.train.next_batch(100)\n",
    "    sess.run(train_step, feed_dict={x: batch_xs, y_: batch_ys})\n",
    "\n",
    "# Evaluate the accuracy of the model\n",
    "correct_prediction = tf.equal(tf.argmax(y, 1), tf.argmax(y_, 1))\n",
    "accuracy = tf.reduce_mean(tf.cast(correct_prediction, tf.float32), name=\"accuracy\")\n",
    "writer = tf.summary.FileWriter('./logistic_graphs')\n",
    "writer.add_graph(sess.graph)\n",
    "test_accuracy = sess.run(\n",
    "    accuracy, feed_dict={x: mnist.test.images, y_: mnist.test.labels}\n",
    ")\n",
    "print(\"Test Accuracy: {}%\".format(test_accuracy * 100.0))\n",
    "\n",
    "sess.close()"
   ]
  },
  {
   "cell_type": "code",
   "execution_count": null,
   "metadata": {
    "collapsed": true
   },
   "outputs": [],
   "source": []
  }
 ],
 "metadata": {
  "kernelspec": {
   "display_name": "Python 3",
   "language": "python",
   "name": "python3"
  },
  "language_info": {
   "codemirror_mode": {
    "name": "ipython",
    "version": 3
   },
   "file_extension": ".py",
   "mimetype": "text/x-python",
   "name": "python",
   "nbconvert_exporter": "python",
   "pygments_lexer": "ipython3",
   "version": "3.5.4"
  }
 },
 "nbformat": 4,
 "nbformat_minor": 2
}
